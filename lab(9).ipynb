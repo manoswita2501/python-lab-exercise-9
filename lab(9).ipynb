{
 "cells": [
  {
   "cell_type": "code",
   "execution_count": 3,
   "metadata": {},
   "outputs": [
    {
     "name": "stdout",
     "output_type": "stream",
     "text": [
      "Array indexing:\n",
      "arr[2]:  3\n",
      "arr[1:4] [2 3 4]\n",
      "\n",
      "Fancy indexing:\n",
      "arr[indices] [1 3 5]\n"
     ]
    }
   ],
   "source": [
    "import numpy as np\n",
    "\n",
    "# Array indexing\n",
    "arr = np.array([1, 2, 3, 4, 5, 6, 7, 8, 9, 10])\n",
    "\n",
    "print(\"Array indexing:\")\n",
    "print(\"arr[2]: \", arr[2])  # Accessing the element at index 2\n",
    "print(\"arr[1:4]\", arr[1:4])  # Accessing a slice of elements from index 1 to 3\n",
    "\n",
    "# Fancy indexing\n",
    "print(\"\\nFancy indexing:\")\n",
    "indices = np.array([0, 2, 4])  # Array of indices\n",
    "print(\"arr[indices]\", arr[indices])  # Accessing elements at the specified indices"
   ]
  },
  {
   "cell_type": "code",
   "execution_count": 2,
   "metadata": {},
   "outputs": [
    {
     "name": "stdout",
     "output_type": "stream",
     "text": [
      "Original Array:\n",
      "[[ 1  2  3  4]\n",
      " [ 5  6  7  8]\n",
      " [ 9 10 11 12]]\n",
      "\n",
      "Row 1:\n",
      "[5 6 7 8]\n",
      "\n",
      "Column 2:\n",
      "[ 3  7 11]\n",
      "\n",
      "Subarray1 (rows 0:2, columns 1:3):\n",
      "[[2 3]\n",
      " [6 7]]\n",
      "\n",
      "Step Slice (every other row, every other column):\n",
      "[[ 1  3]\n",
      " [ 9 11]]\n",
      "\n",
      "Subarray2 (rows 1:3, columns 2:4):\n",
      "[[ 7  8]\n",
      " [11 12]]\n"
     ]
    }
   ],
   "source": [
    "import numpy as np\n",
    "\n",
    "# Create a sample 2D NumPy array\n",
    "data = np.array([[1, 2, 3, 4],\n",
    "                 [5, 6, 7, 8],\n",
    "                 [9, 10, 11, 12]])\n",
    "\n",
    "\n",
    "# Display the original array\n",
    "print(\"Original Array:\")\n",
    "print(data)\n",
    "\n",
    "# Slicing the array\n",
    "# Syntax: array[row_start:row_end, col_start:col_end]\n",
    "\n",
    "# Selecting a single row (row 1)\n",
    "row_1 = data[1, :]\n",
    "print(\"\\nRow 1:\")\n",
    "print(row_1)\n",
    "\n",
    "# Selecting a single column (column 2)\n",
    "col_2 = data[:, 2]\n",
    "print(\"\\nColumn 2:\")\n",
    "print(col_2)\n",
    "\n",
    "# Slicing a subarray (rows 0 and 1, columns 1 and 2)\n",
    "subarray1 = data[0:2, 1:3]\n",
    "print(\"\\nSubarray1 (rows 0:2, columns 1:3):\")\n",
    "print(subarray1)\n",
    "\n",
    "# Slicing with step (every other row, every other column)\n",
    "step_slice = data[::2, ::2]\n",
    "print(\"\\nStep Slice (every other row, every other column):\")\n",
    "print(step_slice)\n",
    "\n",
    "subarray2= data[1:3, 2:4]\n",
    "print(\"\\nSubarray2 (rows 1:3, columns 2:4):\")\n",
    "print(subarray2)"
   ]
  },
  {
   "cell_type": "code",
   "execution_count": 4,
   "metadata": {},
   "outputs": [
    {
     "name": "stdout",
     "output_type": "stream",
     "text": [
      "The 5D array [[[[[1 2 3 4 5 6]]]]]\n",
      "Shape of the array: (1, 1, 1, 1, 6)\n"
     ]
    }
   ],
   "source": [
    "import numpy as np\n",
    "\n",
    "# Create a 5-dimensional array with shape (2, 3, 4, 5, 6)\n",
    "arr = np.array([1, 2, 3, 4, 5, 6], ndmin=5)\n",
    "\n",
    "print(\"The 5D array\", arr)\n",
    "print(\"Shape of the array:\", arr.shape)"
   ]
  },
  {
   "cell_type": "code",
   "execution_count": 5,
   "metadata": {},
   "outputs": [
    {
     "name": "stdout",
     "output_type": "stream",
     "text": [
      "Original 1-D array:\n",
      "[1 2 3 4 5 6]\n",
      "\n",
      "Reshaped 2-D array (using reshape):\n",
      "[[1 2 3]\n",
      " [4 5 6]]\n"
     ]
    }
   ],
   "source": [
    "import numpy as np\n",
    "\n",
    "# Create a 1-D array\n",
    "arr_1d = np.array([1, 2, 3, 4, 5, 6])\n",
    "\n",
    "# Reshape the array to a 2-D array with 2 rows and 3 columns\n",
    "arr_2d = np.reshape(arr_1d, (2, 3))\n",
    "\n",
    "# Display the original and reshaped arrays\n",
    "print(\"Original 1-D array:\")\n",
    "print(arr_1d)\n",
    "\n",
    "print(\"\\nReshaped 2-D array (using reshape):\")\n",
    "print(arr_2d)"
   ]
  },
  {
   "cell_type": "code",
   "execution_count": 6,
   "metadata": {},
   "outputs": [
    {
     "name": "stdout",
     "output_type": "stream",
     "text": [
      "Stacked array:\n",
      "[[1 2 3]\n",
      " [4 5 6]]\n",
      "\n",
      "Horizontally stacked array:\n",
      "[1 2 3 4 5 6]\n",
      "\n",
      "Vertically stacked array:\n",
      "[[1 2 3]\n",
      " [4 5 6]]\n",
      "\n",
      "Depth-wise stacked array:\n",
      "[[[1 5]\n",
      "  [2 6]]\n",
      "\n",
      " [[3 7]\n",
      "  [4 8]]]\n"
     ]
    }
   ],
   "source": [
    "import numpy as np\n",
    "\n",
    "# Create two arrays\n",
    "arr1 = np.array([1, 2, 3])\n",
    "arr2 = np.array([4, 5, 6])\n",
    "\n",
    "# Stack arrays using stack()\n",
    "stacked_arr = np.stack((arr1, arr2))\n",
    "print(\"Stacked array:\")\n",
    "print(stacked_arr)\n",
    "\n",
    "# Stack arrays horizontally using hstack()\n",
    "hstacked_arr = np.hstack((arr1, arr2))\n",
    "print(\"\\nHorizontally stacked array:\")\n",
    "print(hstacked_arr)\n",
    "\n",
    "# Stack arrays vertically using vstack()\n",
    "vstacked_arr = np.vstack((arr1, arr2))\n",
    "print(\"\\nVertically stacked array:\")\n",
    "print(vstacked_arr)\n",
    "\n",
    "\n",
    "# Create two 2D arrays\n",
    "arr3 = np.array([[1, 2], [3, 4]])\n",
    "arr4 = np.array([[5, 6], [7, 8]])\n",
    "\n",
    "# Stack arrays along the third axis using dstack()\n",
    "dstacked_arr = np.dstack((arr3, arr4))\n",
    "print(\"\\nDepth-wise stacked array:\")\n",
    "print(dstacked_arr)"
   ]
  },
  {
   "cell_type": "code",
   "execution_count": 7,
   "metadata": {},
   "outputs": [
    {
     "name": "stdout",
     "output_type": "stream",
     "text": [
      "Sorted Array (ascending order):\n",
      "['catheter' 'forcep' 'otoscope' 'scalpel' 'stethoscope' 'stretcher'\n",
      " 'syringe' 'thermometer']\n",
      "\n",
      "Sorted Array (descending order):\n",
      "['thermometer' 'syringe' 'stretcher' 'stethoscope' 'scalpel' 'otoscope'\n",
      " 'forcep' 'catheter']\n",
      "\n",
      "Position to Insert nebulizer to Maintain Sorted Order: 2\n",
      "\n",
      "Positions to Insert Multiple Values to Maintain Sorted Order:\n",
      "[4 2 8]\n"
     ]
    }
   ],
   "source": [
    "import numpy as np\n",
    "\n",
    "# Create a numpy array\n",
    "arr = np.array(['syringe', 'stethoscope', 'catheter', 'thermometer', 'scalpel', 'forcep', 'stretcher', 'otoscope'])\n",
    "\n",
    "#Sort the array in ascending order\n",
    "sorted_array = np.sort(arr)\n",
    "print(\"Sorted Array (ascending order):\")\n",
    "print(sorted_array)\n",
    "\n",
    "# Sort the array in descending order\n",
    "reverse_sorted_array = np.sort(arr)[::-1]\n",
    "print(\"\\nSorted Array (descending order):\")\n",
    "print(reverse_sorted_array)\n",
    "\n",
    "\n",
    "# Perform a binary search to find the position to insert a value while maintaining the sorted order\n",
    "value_to_insert = 'nebulizer'\n",
    "position_to_insert = np.searchsorted(sorted_array, value_to_insert)\n",
    "print(f\"\\nPosition to Insert {value_to_insert} to Maintain Sorted Order:\", position_to_insert)\n",
    "\n",
    "# Perform a binary search to find the indices where a value should be inserted to maintain sorted order\n",
    "values_to_insert = ['sterilizer', 'mask', 'ventilator']\n",
    "positions_to_insert = np.searchsorted(sorted_array, values_to_insert)\n",
    "print(\"\\nPositions to Insert Multiple Values to Maintain Sorted Order:\")\n",
    "print(positions_to_insert)"
   ]
  },
  {
   "cell_type": "code",
   "execution_count": 8,
   "metadata": {},
   "outputs": [
    {
     "name": "stdout",
     "output_type": "stream",
     "text": [
      "        Name  Age       City\n",
      "0  Manoswita   22    Kolkata\n",
      "1      Naina   30    Chennai\n",
      "2    Kareena   27  Bangalore\n",
      "3     Ashima   35  Hyderabad\n",
      "4     Latika   29      Delhi\n"
     ]
    }
   ],
   "source": [
    "import pandas as pd\n",
    "\n",
    "# Create a list of dictionaries\n",
    "data = [\n",
    "    {'Name': 'Manoswita', 'Age': 22, 'City': 'Kolkata'},\n",
    "    {'Name': 'Naina', 'Age': 30, 'City': 'Chennai'},\n",
    "    {'Name': 'Kareena', 'Age': 27, 'City': 'Bangalore'},\n",
    "    {'Name': 'Ashima', 'Age': 35, 'City': 'Hyderabad'},\n",
    "    {'Name': 'Latika', 'Age': 29, 'City': 'Delhi'}\n",
    "]\n",
    "\n",
    "# Create a DataFrame from the list of dictionaries\n",
    "df = pd.DataFrame(data)\n",
    "\n",
    "# Print the DataFrame\n",
    "print(df)"
   ]
  },
  {
   "cell_type": "code",
   "execution_count": 9,
   "metadata": {},
   "outputs": [
    {
     "name": "stdout",
     "output_type": "stream",
     "text": [
      "DataFrame created using Lists:\n",
      "           Doctor Name  Age Specialization\n",
      "0  Dr. Arun Chatterjee   28   Cardiologist\n",
      "1      Dr. Mohan Patel   32     Oncologist\n",
      "2     Dr. Vikram Singh   29      Urologist\n",
      "\n",
      "DataFrame created using Dictionaries:\n",
      "        Doctor Name  Age        Occupation\n",
      "0    Dr. Rashid Ali   33       Radiologist\n",
      "1  Dr. Karan Saxena   27     Gynaecologist\n",
      "2  Dr. Feroze Hakim   31  Child Specialist\n"
     ]
    }
   ],
   "source": [
    "import pandas as pd\n",
    "\n",
    "# Creating a DataFrame using Lists\n",
    "data_list = [['Dr. Arun Chatterjee', 28, 'Cardiologist'],\n",
    "             ['Dr. Mohan Patel', 32, 'Oncologist'],\n",
    "             ['Dr. Vikram Singh', 29, 'Urologist']]\n",
    "\n",
    "columns_list = ['Doctor Name', 'Age', 'Specialization']\n",
    "\n",
    "df_list = pd.DataFrame(data_list, columns=columns_list)\n",
    "\n",
    "# Creating a DataFrame using Dictionaries\n",
    "data_dict = {\n",
    "    'Doctor Name': ['Dr. Rashid Ali', 'Dr. Karan Saxena', 'Dr. Feroze Hakim'],\n",
    "    'Age': [33, 27, 31],\n",
    "    'Occupation': ['Radiologist', 'Gynaecologist', 'Child Specialist']\n",
    "}\n",
    "\n",
    "df_dict = pd.DataFrame(data_dict)\n",
    "\n",
    "# Displaying the DataFrames\n",
    "print(\"DataFrame created using Lists:\")\n",
    "print(df_list)\n",
    "\n",
    "print(\"\\nDataFrame created using Dictionaries:\")\n",
    "print(df_dict)"
   ]
  },
  {
   "cell_type": "code",
   "execution_count": 12,
   "metadata": {},
   "outputs": [
    {
     "name": "stdout",
     "output_type": "stream",
     "text": [
      "\n",
      "Check for Missing Data (isnull()):\n",
      "   Patient_ID   Name    Age  Gender  Diagnosis  Further_visits_required\n",
      "0       False  False  False   False      False                    False\n",
      "1       False  False  False   False      False                    False\n",
      "2       False  False   True   False      False                    False\n",
      "3       False  False  False    True      False                    False\n",
      "4       False  False  False   False       True                    False\n",
      "\n",
      "Check for Non-Missing Data (notnull()):\n",
      "   Patient_ID  Name    Age  Gender  Diagnosis  Further_visits_required\n",
      "0        True  True   True    True       True                     True\n",
      "1        True  True   True    True       True                     True\n",
      "2        True  True  False    True       True                     True\n",
      "3        True  True   True   False       True                     True\n",
      "4        True  True   True    True      False                     True\n",
      "\n",
      "DataFrame after dropping rows with missing values (dropna()):\n",
      "   Patient_ID   Name   Age  Gender     Diagnosis  Further_visits_required\n",
      "0           1  Varun  25.0    Male           Flu                    False\n",
      "1           2   Jiya  32.0  Female  Hypertension                     True\n"
     ]
    },
    {
     "ename": "KeyError",
     "evalue": "'age'",
     "output_type": "error",
     "traceback": [
      "\u001b[1;31m---------------------------------------------------------------------------\u001b[0m",
      "\u001b[1;31mKeyError\u001b[0m                                  Traceback (most recent call last)",
      "File \u001b[1;32m~\\AppData\\Local\\Packages\\PythonSoftwareFoundation.Python.3.11_qbz5n2kfra8p0\\LocalCache\\local-packages\\Python311\\site-packages\\pandas\\core\\indexes\\base.py:3790\u001b[0m, in \u001b[0;36mIndex.get_loc\u001b[1;34m(self, key)\u001b[0m\n\u001b[0;32m   3789\u001b[0m \u001b[39mtry\u001b[39;00m:\n\u001b[1;32m-> 3790\u001b[0m     \u001b[39mreturn\u001b[39;00m \u001b[39mself\u001b[39;49m\u001b[39m.\u001b[39;49m_engine\u001b[39m.\u001b[39;49mget_loc(casted_key)\n\u001b[0;32m   3791\u001b[0m \u001b[39mexcept\u001b[39;00m \u001b[39mKeyError\u001b[39;00m \u001b[39mas\u001b[39;00m err:\n",
      "File \u001b[1;32mindex.pyx:152\u001b[0m, in \u001b[0;36mpandas._libs.index.IndexEngine.get_loc\u001b[1;34m()\u001b[0m\n",
      "File \u001b[1;32mindex.pyx:181\u001b[0m, in \u001b[0;36mpandas._libs.index.IndexEngine.get_loc\u001b[1;34m()\u001b[0m\n",
      "File \u001b[1;32mpandas\\_libs\\hashtable_class_helper.pxi:7080\u001b[0m, in \u001b[0;36mpandas._libs.hashtable.PyObjectHashTable.get_item\u001b[1;34m()\u001b[0m\n",
      "File \u001b[1;32mpandas\\_libs\\hashtable_class_helper.pxi:7088\u001b[0m, in \u001b[0;36mpandas._libs.hashtable.PyObjectHashTable.get_item\u001b[1;34m()\u001b[0m\n",
      "\u001b[1;31mKeyError\u001b[0m: 'age'",
      "\nThe above exception was the direct cause of the following exception:\n",
      "\u001b[1;31mKeyError\u001b[0m                                  Traceback (most recent call last)",
      "\u001b[1;32mc:\\Users\\Manoswita Bose\\Documents\\Python Programming\\PYTHON-LAB-EXERCISE-9\\lab(9).ipynb Cell 9\u001b[0m line \u001b[0;36m2\n\u001b[0;32m     <a href='vscode-notebook-cell:/c%3A/Users/Manoswita%20Bose/Documents/Python%20Programming/PYTHON-LAB-EXERCISE-9/lab%289%29.ipynb#X12sZmlsZQ%3D%3D?line=25'>26</a>\u001b[0m \u001b[39mprint\u001b[39m(df_dropped)\n\u001b[0;32m     <a href='vscode-notebook-cell:/c%3A/Users/Manoswita%20Bose/Documents/Python%20Programming/PYTHON-LAB-EXERCISE-9/lab%289%29.ipynb#X12sZmlsZQ%3D%3D?line=27'>28</a>\u001b[0m \u001b[39m# fillna() - Fill missing values with a specified value or strategy\u001b[39;00m\n\u001b[1;32m---> <a href='vscode-notebook-cell:/c%3A/Users/Manoswita%20Bose/Documents/Python%20Programming/PYTHON-LAB-EXERCISE-9/lab%289%29.ipynb#X12sZmlsZQ%3D%3D?line=28'>29</a>\u001b[0m df_filled \u001b[39m=\u001b[39m df\u001b[39m.\u001b[39mfillna({\u001b[39m'\u001b[39m\u001b[39mage\u001b[39m\u001b[39m'\u001b[39m: df[\u001b[39m'\u001b[39;49m\u001b[39mage\u001b[39;49m\u001b[39m'\u001b[39;49m]\u001b[39m.\u001b[39mmean(), \u001b[39m'\u001b[39m\u001b[39mgender\u001b[39m\u001b[39m'\u001b[39m: \u001b[39m'\u001b[39m\u001b[39mUnknown\u001b[39m\u001b[39m'\u001b[39m})\n\u001b[0;32m     <a href='vscode-notebook-cell:/c%3A/Users/Manoswita%20Bose/Documents/Python%20Programming/PYTHON-LAB-EXERCISE-9/lab%289%29.ipynb#X12sZmlsZQ%3D%3D?line=29'>30</a>\u001b[0m \u001b[39mprint\u001b[39m(\u001b[39m\"\u001b[39m\u001b[39m\\n\u001b[39;00m\u001b[39mDataFrame after filling missing values (fillna()):\u001b[39m\u001b[39m\"\u001b[39m)\n\u001b[0;32m     <a href='vscode-notebook-cell:/c%3A/Users/Manoswita%20Bose/Documents/Python%20Programming/PYTHON-LAB-EXERCISE-9/lab%289%29.ipynb#X12sZmlsZQ%3D%3D?line=30'>31</a>\u001b[0m \u001b[39mprint\u001b[39m(df_filled)\n",
      "File \u001b[1;32m~\\AppData\\Local\\Packages\\PythonSoftwareFoundation.Python.3.11_qbz5n2kfra8p0\\LocalCache\\local-packages\\Python311\\site-packages\\pandas\\core\\frame.py:3896\u001b[0m, in \u001b[0;36mDataFrame.__getitem__\u001b[1;34m(self, key)\u001b[0m\n\u001b[0;32m   3894\u001b[0m \u001b[39mif\u001b[39;00m \u001b[39mself\u001b[39m\u001b[39m.\u001b[39mcolumns\u001b[39m.\u001b[39mnlevels \u001b[39m>\u001b[39m \u001b[39m1\u001b[39m:\n\u001b[0;32m   3895\u001b[0m     \u001b[39mreturn\u001b[39;00m \u001b[39mself\u001b[39m\u001b[39m.\u001b[39m_getitem_multilevel(key)\n\u001b[1;32m-> 3896\u001b[0m indexer \u001b[39m=\u001b[39m \u001b[39mself\u001b[39;49m\u001b[39m.\u001b[39;49mcolumns\u001b[39m.\u001b[39;49mget_loc(key)\n\u001b[0;32m   3897\u001b[0m \u001b[39mif\u001b[39;00m is_integer(indexer):\n\u001b[0;32m   3898\u001b[0m     indexer \u001b[39m=\u001b[39m [indexer]\n",
      "File \u001b[1;32m~\\AppData\\Local\\Packages\\PythonSoftwareFoundation.Python.3.11_qbz5n2kfra8p0\\LocalCache\\local-packages\\Python311\\site-packages\\pandas\\core\\indexes\\base.py:3797\u001b[0m, in \u001b[0;36mIndex.get_loc\u001b[1;34m(self, key)\u001b[0m\n\u001b[0;32m   3792\u001b[0m     \u001b[39mif\u001b[39;00m \u001b[39misinstance\u001b[39m(casted_key, \u001b[39mslice\u001b[39m) \u001b[39mor\u001b[39;00m (\n\u001b[0;32m   3793\u001b[0m         \u001b[39misinstance\u001b[39m(casted_key, abc\u001b[39m.\u001b[39mIterable)\n\u001b[0;32m   3794\u001b[0m         \u001b[39mand\u001b[39;00m \u001b[39many\u001b[39m(\u001b[39misinstance\u001b[39m(x, \u001b[39mslice\u001b[39m) \u001b[39mfor\u001b[39;00m x \u001b[39min\u001b[39;00m casted_key)\n\u001b[0;32m   3795\u001b[0m     ):\n\u001b[0;32m   3796\u001b[0m         \u001b[39mraise\u001b[39;00m InvalidIndexError(key)\n\u001b[1;32m-> 3797\u001b[0m     \u001b[39mraise\u001b[39;00m \u001b[39mKeyError\u001b[39;00m(key) \u001b[39mfrom\u001b[39;00m \u001b[39merr\u001b[39;00m\n\u001b[0;32m   3798\u001b[0m \u001b[39mexcept\u001b[39;00m \u001b[39mTypeError\u001b[39;00m:\n\u001b[0;32m   3799\u001b[0m     \u001b[39m# If we have a listlike key, _check_indexing_error will raise\u001b[39;00m\n\u001b[0;32m   3800\u001b[0m     \u001b[39m#  InvalidIndexError. Otherwise we fall through and re-raise\u001b[39;00m\n\u001b[0;32m   3801\u001b[0m     \u001b[39m#  the TypeError.\u001b[39;00m\n\u001b[0;32m   3802\u001b[0m     \u001b[39mself\u001b[39m\u001b[39m.\u001b[39m_check_indexing_error(key)\n",
      "\u001b[1;31mKeyError\u001b[0m: 'age'"
     ]
    }
   ],
   "source": [
    "import pandas as pd\n",
    "\n",
    "data = {'Patient_ID': [1, 2, 3, 4, 5],\n",
    "        'Name': ['Varun', 'Jiya', 'Ishaan', 'Meera', 'Arunesh'],\n",
    "        'Age': [25, 32, None, 45, 28],\n",
    "        'Gender': ['Male', 'Female', 'Male', None, 'Male'],\n",
    "        'Diagnosis': ['Flu', 'Hypertension', 'Diabetes', 'Fever', None],\n",
    "        'Further_visits_required': [False, True, True, False, False]\n",
    "        }\n",
    "\n",
    "df = pd.DataFrame(data)\n",
    "\n",
    "# Check for missing data\n",
    "\n",
    "# isnull() - Check if a value is missing (returns a DataFrame of boolean values)\n",
    "print(\"\\nCheck for Missing Data (isnull()):\")\n",
    "print(df.isnull())\n",
    "\n",
    "# notnull() - Check if a value is not missing (returns a DataFrame of boolean values)\n",
    "print(\"\\nCheck for Non-Missing Data (notnull()):\")\n",
    "print(df.notnull())\n",
    "\n",
    "# dropna() - Remove rows with missing values\n",
    "df_dropped = df.dropna()\n",
    "print(\"\\nDataFrame after dropping rows with missing values (dropna()):\")\n",
    "print(df_dropped)\n",
    "\n",
    "# fillna() - Fill missing values with a specified value or strategy\n",
    "df_filled = df.fillna({'age': df['age'].mean(), 'gender': 'Unknown'})\n",
    "print(\"\\nDataFrame after filling missing values (fillna()):\")\n",
    "print(df_filled)\n",
    "\n",
    "# replace() - Replace specific values with another value\n",
    "df_replaced = df.replace({'Further_visits_required': {True: 'Yes', False: 'No'}})\n",
    "print(\"\\nDataFrame after replacing values (replace()):\")\n",
    "print(df_replaced)\n",
    "\n",
    "# interpolate() - Interpolate missing values (works well with numeric data)\n",
    "df_interpolated = df.interpolate()\n",
    "print(\"\\nDataFrame after interpolating missing values (interpolate()):\")\n",
    "print(df_interpolated)"
   ]
  },
  {
   "cell_type": "code",
   "execution_count": 13,
   "metadata": {},
   "outputs": [
    {
     "name": "stdout",
     "output_type": "stream",
     "text": [
      "DataFrame with Hierarchical Indexing:\n",
      "                     Age  Gender     Diagnosis  Further_visits_required\n",
      "Patient_ID Name                                                        \n",
      "1          Varun    25.0    Male           Flu                    False\n",
      "2          Jiya     32.0  Female  Hypertension                     True\n",
      "3          Ishaan    NaN    Male      Diabetes                     True\n",
      "4          Meera    45.0    None         Fever                    False\n",
      "5          Arunesh  28.0    Male          None                    False\n"
     ]
    }
   ],
   "source": [
    "import pandas as pd\n",
    "\n",
    "# Create a sample DataFrame for the online election system\n",
    "data = {'Patient_ID': [1, 2, 3, 4, 5],\n",
    "        'Name': ['Varun', 'Jiya', 'Ishaan', 'Meera', 'Arunesh'],\n",
    "        'Age': [25, 32, None, 45, 28],\n",
    "        'Gender': ['Male', 'Female', 'Male', None, 'Male'],\n",
    "        'Diagnosis': ['Flu', 'Hypertension', 'Diabetes', 'Fever', None],\n",
    "        'Further_visits_required': [False, True, True, False, False]\n",
    "        }\n",
    "\n",
    "df = pd.DataFrame(data)\n",
    "\n",
    "# Create hierarchical indexing with 'voter_id' and 'voter_name'\n",
    "df.set_index(['Patient_ID', 'Name'], inplace=True)\n",
    "\n",
    "# Display the DataFrame with hierarchical indexing\n",
    "print(\"DataFrame with Hierarchical Indexing:\")\n",
    "print(df)"
   ]
  }
 ],
 "metadata": {
  "kernelspec": {
   "display_name": "Python 3",
   "language": "python",
   "name": "python3"
  },
  "language_info": {
   "codemirror_mode": {
    "name": "ipython",
    "version": 3
   },
   "file_extension": ".py",
   "mimetype": "text/x-python",
   "name": "python",
   "nbconvert_exporter": "python",
   "pygments_lexer": "ipython3",
   "version": "3.11.4"
  },
  "orig_nbformat": 4
 },
 "nbformat": 4,
 "nbformat_minor": 2
}
